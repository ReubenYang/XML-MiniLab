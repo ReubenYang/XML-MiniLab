{
 "cells": [
  {
   "cell_type": "markdown",
   "metadata": {},
   "source": [
    "# XML example and exercise\n",
    "****\n",
    "+ study examples of accessing nodes in XML tree structure  \n",
    "+ work on exercise to be completed and submitted\n",
    "****\n",
    "+ reference: https://docs.python.org/2.7/library/xml.etree.elementtree.html\n",
    "+ data source: http://www.dbis.informatik.uni-goettingen.de/Mondial\n",
    "****"
   ]
  },
  {
   "cell_type": "code",
   "execution_count": 1,
   "metadata": {
    "collapsed": true
   },
   "outputs": [],
   "source": [
    "from xml.etree import ElementTree as ET"
   ]
  },
  {
   "cell_type": "markdown",
   "metadata": {},
   "source": [
    "## XML example\n",
    "\n",
    "+ for details about tree traversal and iterators, see https://docs.python.org/2.7/library/xml.etree.elementtree.html"
   ]
  },
  {
   "cell_type": "code",
   "execution_count": 2,
   "metadata": {
    "collapsed": true
   },
   "outputs": [],
   "source": [
    "document_tree = ET.parse( './data/mondial_database_less.xml' )"
   ]
  },
  {
   "cell_type": "code",
   "execution_count": 3,
   "metadata": {
    "collapsed": false
   },
   "outputs": [
    {
     "name": "stdout",
     "output_type": "stream",
     "text": [
      "Albania\n",
      "Greece\n",
      "Macedonia\n",
      "Serbia\n",
      "Montenegro\n",
      "Kosovo\n",
      "Andorra\n"
     ]
    }
   ],
   "source": [
    "# print names of all countries\n",
    "for child in document_tree.getroot():\n",
    "    print(child.find('name').text)"
   ]
  },
  {
   "cell_type": "code",
   "execution_count": 4,
   "metadata": {
    "collapsed": false
   },
   "outputs": [
    {
     "name": "stdout",
     "output_type": "stream",
     "text": [
      "* Albania:\n",
      "Tirana, Shkodër, Durrës, Vlorë, Elbasan, Korçë\n",
      "* Greece:\n",
      "Komotini, Kavala, Athina, Peiraias, Peristeri, Acharnes, Patra, Kozani, Kerkyra, Ioannina, Thessaloniki, Iraklio, Chania, Ermoupoli, Rhodes, Tripoli, Lamia, Chalkida, Larissa, Volos, Mytilini, Karyes\n",
      "* Macedonia:\n",
      "Skopje, Kumanovo\n",
      "* Serbia:\n",
      "Beograd, Novi Sad, Niš\n",
      "* Montenegro:\n",
      "Podgorica\n",
      "* Kosovo:\n",
      "Prishtine\n",
      "* Andorra:\n",
      "Andorra la Vella\n"
     ]
    }
   ],
   "source": [
    "# print names of all countries and their cities\n",
    "for element in document_tree.iterfind('country'):\n",
    "    print('* ' + element.find('name').text + ':',)\n",
    "    capitals_string = ''\n",
    "    for subelement in element.getiterator('city'):\n",
    "        capitals_string += subelement.find('name').text + ', '\n",
    "    print(capitals_string[:-2])"
   ]
  },
  {
   "cell_type": "markdown",
   "metadata": {},
   "source": [
    "****\n",
    "## XML exercise\n",
    "\n",
    "Using data in 'data/mondial_database.xml', the examples above, and refering to https://docs.python.org/2.7/library/xml.etree.elementtree.html, find\n",
    "\n",
    "1. 10 countries with the lowest infant mortality rates\n",
    "2. 10 cities with the largest population\n",
    "3. 10 ethnic groups with the largest overall populations (sum of best/latest estimates over all countries)\n",
    "4. name and country of a) longest river, b) largest lake and c) airport at highest elevation"
   ]
  },
  {
   "cell_type": "code",
   "execution_count": 5,
   "metadata": {
    "collapsed": true
   },
   "outputs": [],
   "source": [
    "document = ET.parse( './data/mondial_database.xml' )"
   ]
  },
  {
   "cell_type": "code",
   "execution_count": 6,
   "metadata": {
    "collapsed": false
   },
   "outputs": [
    {
     "name": "stdout",
     "output_type": "stream",
     "text": [
      "10 countries with the lowest infant mortality rates:\n",
      "Infant_mortality            Name\n",
      "            1.81          Monaco\n",
      "            2.13           Japan\n",
      "            2.48         Bermuda\n",
      "            2.48          Norway\n",
      "            2.53       Singapore\n",
      "            2.60          Sweden\n",
      "            2.63  Czech Republic\n",
      "            2.73       Hong Kong\n",
      "            3.13           Macao\n",
      "            3.15         Iceland\n"
     ]
    }
   ],
   "source": [
    "#1. 10 countries with the lowest infant mortality rates\n",
    "import pandas as pd\n",
    "Dict = {'Name':[], 'Infant_mortality':[]}\n",
    "\n",
    "#Retrive country names and infant mortality rates\n",
    "for element in document.iterfind('country'):\n",
    "    Dict['Name'] = Dict['Name'] + [element.find('name').text]\n",
    "    if not element.find('infant_mortality') == None:\n",
    "        Dict['Infant_mortality'] = Dict['Infant_mortality'] + [element.find('infant_mortality').text]\n",
    "    else:\n",
    "        Dict['Infant_mortality'] = Dict['Infant_mortality'] + ['NaN']\n",
    "\n",
    "#Create dataframe and convert infant mortality to numbers        \n",
    "Country_infant = pd.DataFrame(Dict)\n",
    "Country_infant['Infant_mortality'] = pd.to_numeric(Country_infant['Infant_mortality'], errors='coerce')\n",
    "\n",
    "#Sort infant mortality\n",
    "result = Country_infant.sort_values(['Infant_mortality'])\n",
    "\n",
    "#Print the 10 lowest\n",
    "print('10 countries with the lowest infant mortality rates:')\n",
    "print(result.iloc[0:10].to_string(index=False))"
   ]
  },
  {
   "cell_type": "code",
   "execution_count": 7,
   "metadata": {
    "collapsed": false
   },
   "outputs": [
    {
     "name": "stdout",
     "output_type": "stream",
     "text": [
      "10 cities with the largest population (the most recent data available for each city)\n",
      "               City  Population  Year\n",
      "1341   Shanghai(CN)    22315474  2010\n",
      "771    Istanbul(TR)    13710512  2012\n",
      "1527    Mumbai(IND)    12442373  2011\n",
      "479       Moskva(R)    11979529  2013\n",
      "1340    Beijing(CN)    11716620  2010\n",
      "2810  São Paulo(BR)    11152344  2010\n",
      "1342    Tianjin(CN)    11090314  2010\n",
      "1064  Guangzhou(CN)    11071424  2010\n",
      "1582     Delhi(IND)    11034555  2011\n",
      "1067   Shenzhen(CN)    10358381  2010\n"
     ]
    }
   ],
   "source": [
    "#2. 10 cities with the largest population\n",
    "root = document.getroot()\n",
    "Dict2 = {'City':[], 'Population':[], 'Year':[]}\n",
    "\n",
    "#find city names\n",
    "for city in root.iter('city'):\n",
    "    Dict2['City'] = Dict2['City'] + [city.find('name').text + '(' + city.attrib['country'] + ')']\n",
    "    \n",
    "    year,population = 0,0\n",
    "\n",
    "    #find population and year \n",
    "    for pop in city.iter('population'):\n",
    "        if int(pop.attrib['year']) > year:\n",
    "            year = int(pop.attrib['year'])\n",
    "            population = int(pop.text)\n",
    "            \n",
    "    Dict2['Population'] = Dict2['Population'] + [population]\n",
    "    Dict2['Year'] = Dict2['Year'] + [year]\n",
    "\n",
    "#Dictionary to dataframe\n",
    "City_pop = pd.DataFrame(Dict2)\n",
    "\n",
    "result = City_pop.sort_values(['Population'], ascending=False).iloc[0:10]\n",
    "print('10 cities with the largest population (the most recent data available for each city)')\n",
    "print(result)"
   ]
  },
  {
   "cell_type": "code",
   "execution_count": 8,
   "metadata": {
    "collapsed": false
   },
   "outputs": [
    {
     "name": "stdout",
     "output_type": "stream",
     "text": [
      "10 largest ethnic groups:\n",
      "Ethnicity    Population\n",
      "Han Chinese  124505880000\n",
      " Indo-Aryan   87181558344\n",
      "   European   49487221967\n",
      "    African   31832512032\n",
      "  Dravidian   30271374425\n",
      "    Mestizo   15773435493\n",
      "    Bengali   14677691672\n",
      "    Russian   13185699603\n",
      "   Japanese   12653421200\n",
      "      Malay   12199355037\n"
     ]
    }
   ],
   "source": [
    "#3. 10 ethnic groups with the largest overall populations \n",
    "# (sum of best/latest estimates over all countries)\n",
    "root = document.getroot()\n",
    "Dict3 = {}\n",
    "Dict4 = {'Ethnicity':[], 'Population':[]}\n",
    "\n",
    "#find the most recent population of a country\n",
    "for country in root.findall(\"./country\"):\n",
    "    Country_pop = []\n",
    "    for pop in country.findall('./population'):\n",
    "        Country_pop = Country_pop + [pop.text]   \n",
    "    Pop = int(Country_pop[-1])\n",
    "    \n",
    "    #find ethnic groups\n",
    "    for ethnic in country.iter('ethnicgroup'):\n",
    "        if not ethnic.text in Dict3:\n",
    "            Dict3[ethnic.text] = int(Pop * float(ethnic.attrib['percentage']))\n",
    "        else: \n",
    "            Dict3[ethnic.text] = int(Dict3[ethnic.text] + Pop * float(ethnic.attrib['percentage']))\n",
    "\n",
    "Dict4['Ethnicity'] = list(Dict3.keys())\n",
    "Dict4['Population'] = list(Dict3.values())\n",
    "Ethnic_pop = pd.DataFrame(Dict4)\n",
    "print('10 largest ethnic groups:')\n",
    "print(Ethnic_pop.sort_values(['Population'], ascending=False).iloc[0:10].to_string(index=False))"
   ]
  },
  {
   "cell_type": "code",
   "execution_count": 9,
   "metadata": {
    "collapsed": true
   },
   "outputs": [],
   "source": [
    "#Function to look up the country name for the country acronym \n",
    "def countrycode_to_countryname(data):\n",
    "    CO = data['Country'].iloc[0].split()\n",
    "    data['Country'] = ''\n",
    "    for i in range(0, len(CO)):\n",
    "        for j in root.findall('./country'):\n",
    "            if CO[i] == j.attrib['car_code']:\n",
    "                data['Country'] = data['Country'] + ' '+ j.find('name').text\n",
    "                i+=1\n",
    "                break\n",
    "    return  data    "
   ]
  },
  {
   "cell_type": "code",
   "execution_count": 10,
   "metadata": {
    "collapsed": false
   },
   "outputs": [
    {
     "name": "stdout",
     "output_type": "stream",
     "text": [
      "The longest river:\n",
      "                   Country  Length      Name\n",
      "174   Colombia Brazil Peru  6448.0  Amazonas\n",
      "\n",
      "The largest lake:\n",
      "        Area                                          Country         Name\n",
      "54  386400.0   Russia Azerbaijan Kazakhstan Iran Turkmenistan  Caspian Sea\n",
      "\n",
      "The airport at highest elevation:\n",
      "     Country  Elevation          Name\n",
      "80   Bolivia     4063.0  El Alto Intl\n"
     ]
    }
   ],
   "source": [
    "#4. name and country of a) longest river, b) largest lake and c) airport at highest elevation\n",
    "root = document.getroot()\n",
    "\n",
    "#find the longest river\n",
    "Dict5={'Name':[], 'Length':[], 'Country':[]}\n",
    "for river in root.findall('./river'):\n",
    "    Dict5['Country'] = Dict5['Country'] + [river.attrib['country']]\n",
    "    Dict5['Name'] = Dict5['Name'] + [river.find('name').text]\n",
    "    if not river.find('length') == None:\n",
    "        Dict5['Length'] = Dict5['Length'] + [float(river.find('length').text)]\n",
    "    else:\n",
    "        Dict5['Length'] = Dict5['Length'] + [0]\n",
    "River_len = pd.DataFrame(Dict5)\n",
    "result1 = River_len.sort_values(['Length'], ascending=False).iloc[0:1]\n",
    "output = countrycode_to_countryname(result1)\n",
    "print('The longest river:')\n",
    "print(output)    \n",
    "\n",
    "#find the largest lake\n",
    "Dict6={'Name':[], 'Area':[], 'Country':[]}\n",
    "for lake in root.findall('./lake'):\n",
    "    Dict6['Country'] = Dict6['Country'] + [lake.attrib['country']]\n",
    "    Dict6['Name'] = Dict6['Name'] + [lake.find('name').text]\n",
    "    if not lake.find('area') == None:\n",
    "        Dict6['Area'] = Dict6['Area'] + [float(lake.find('area').text)]\n",
    "    else:\n",
    "        Dict6['Area'] = Dict6['Area'] + [0]    \n",
    "Lake_area = pd.DataFrame(Dict6)\n",
    "result2 = Lake_area.sort_values(['Area'], ascending=False)[0:1]\n",
    "output = countrycode_to_countryname(result2)\n",
    "print('')\n",
    "print('The largest lake:')\n",
    "print(output)\n",
    "\n",
    "#find the airport at highest elevation\n",
    "Dict7={'Name':[], 'Elevation':[], 'Country':[]}\n",
    "for air in root.iter('airport'):\n",
    "    Dict7['Country'] = Dict7['Country'] + [air.attrib['country']]\n",
    "    Dict7['Name'] = Dict7['Name'] + [air.find('name').text]\n",
    "    Dict7['Elevation'] = Dict7['Elevation'] + [air.find('elevation').text]\n",
    "Airport_elevation = pd.DataFrame(Dict7)\n",
    "Airport_elevation['Elevation'] = pd.to_numeric(Airport_elevation['Elevation'], errors='coerce')\n",
    "result3 = Airport_elevation.sort_values(['Elevation'], ascending=False)[0:1]\n",
    "output = countrycode_to_countryname(result3)\n",
    "print('')\n",
    "print('The airport at highest elevation:')\n",
    "print(output)"
   ]
  },
  {
   "cell_type": "code",
   "execution_count": null,
   "metadata": {
    "collapsed": true
   },
   "outputs": [],
   "source": []
  }
 ],
 "metadata": {
  "anaconda-cloud": {},
  "kernelspec": {
   "display_name": "Python [conda root]",
   "language": "python",
   "name": "conda-root-py"
  },
  "language_info": {
   "codemirror_mode": {
    "name": "ipython",
    "version": 3
   },
   "file_extension": ".py",
   "mimetype": "text/x-python",
   "name": "python",
   "nbconvert_exporter": "python",
   "pygments_lexer": "ipython3",
   "version": "3.5.2"
  }
 },
 "nbformat": 4,
 "nbformat_minor": 0
}
